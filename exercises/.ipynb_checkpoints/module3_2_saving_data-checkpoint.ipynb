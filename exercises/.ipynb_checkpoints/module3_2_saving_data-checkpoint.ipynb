{
 "cells": [
  {
   "cell_type": "markdown",
   "metadata": {},
   "source": [
    "#Module 3 Analyzing Data"
   ]
  },
  {
   "cell_type": "markdown",
   "metadata": {},
   "source": [
    "## Saving Data"
   ]
  },
  {
   "cell_type": "code",
   "execution_count": 3,
   "metadata": {},
   "outputs": [],
   "source": [
    "path = \"/databricks-datasets/online_retail/data-001/data.csv\"\n",
    "df = spark.read.load(path,\n",
    "                    format='com.databricks.spark.csv', \n",
    "                    header='true',\n",
    "                    inferSchema='true')\n",
    "\n",
    "display(df)"
   ]
  },
  {
   "cell_type": "code",
   "execution_count": 4,
   "metadata": {},
   "outputs": [],
   "source": [
    "display(\n",
    "  df\n",
    "    .select(df[\"Country\"], df[\"Description\"],(df[\"UnitPrice\"]*df[\"Quantity\"]).alias(\"Total\"))\n",
    "    .groupBy(\"Country\", \"Description\")\n",
    "    .sum()\n",
    "    .filter(df[\"Country\"]==\"United Kingdom\")\n",
    "    .sort(\"sum(Total)\", ascending=False)\n",
    "  )"
   ]
  },
  {
   "cell_type": "code",
   "execution_count": 5,
   "metadata": {},
   "outputs": [],
   "source": [
    "r1 = df.select(df[\"Country\"], df[\"Description\"],(df[\"UnitPrice\"]*df[\"Quantity\"]).alias(\"Total\"))\n",
    "\n",
    "display(r1)\n"
   ]
  },
  {
   "cell_type": "code",
   "execution_count": 6,
   "metadata": {},
   "outputs": [],
   "source": [
    "r1.write.saveAsTable(\"product_sales_by_country\")"
   ]
  },
  {
   "cell_type": "code",
   "execution_count": 7,
   "metadata": {},
   "outputs": [],
   "source": []
  }
 ],
 "metadata": {
  "kernelspec": {
   "display_name": "Python 3",
   "language": "python",
   "name": "python3"
  },
  "language_info": {
   "codemirror_mode": {
    "name": "ipython",
    "version": 3
   },
   "file_extension": ".py",
   "mimetype": "text/x-python",
   "name": "python",
   "nbconvert_exporter": "python",
   "pygments_lexer": "ipython3",
   "version": "3.6.5"
  },
  "name": "2.5 Saving Your Results",
  "notebookId": 1523449000513348
 },
 "nbformat": 4,
 "nbformat_minor": 1
}
