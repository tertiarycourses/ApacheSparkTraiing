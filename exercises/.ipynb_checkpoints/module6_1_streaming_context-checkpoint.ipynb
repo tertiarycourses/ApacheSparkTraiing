{
 "cells": [
  {
   "cell_type": "markdown",
   "metadata": {},
   "source": [
    "#Module 6 Spark Streaming"
   ]
  },
  {
   "cell_type": "markdown",
   "metadata": {},
   "source": [
    "## Streaming Context"
   ]
  },
  {
   "cell_type": "code",
   "execution_count": 3,
   "metadata": {},
   "outputs": [],
   "source": [
    "%sh \n",
    "curl -O 'https://raw.githubusercontent.com/bsullins/bensullins.com-freebies/master/sales_log.zip'\n",
    "file sales_log.zip"
   ]
  },
  {
   "cell_type": "code",
   "execution_count": 4,
   "metadata": {},
   "outputs": [],
   "source": [
    "%sh unzip sales_log.zip"
   ]
  },
  {
   "cell_type": "code",
   "execution_count": 5,
   "metadata": {},
   "outputs": [],
   "source": [
    "%fs ls 'file:/databricks/driver/sales_log/'"
   ]
  },
  {
   "cell_type": "code",
   "execution_count": 6,
   "metadata": {},
   "outputs": [],
   "source": [
    "from pyspark.sql.types import *\n",
    "\n",
    "path = \"file:/databricks/driver/sales_log/\"\n",
    "\n",
    "# create schema for data so stream processing is faster\n",
    "salesSchema = StructType([\n",
    "  StructField(\"OrderID\", DoubleType(), True),\n",
    "  StructField(\"OrderDate\", StringType(), True),\n",
    "  StructField(\"Quantity\", DoubleType(), True),\n",
    "  StructField(\"DiscountPct\", DoubleType(), True),\n",
    "  StructField(\"Rate\", DoubleType(), True),\n",
    "  StructField(\"SaleAmount\", DoubleType(), True),\n",
    "  StructField(\"CustomerName\", StringType(), True),\n",
    "  StructField(\"State\", StringType(), True),\n",
    "  StructField(\"Region\", StringType(), True),\n",
    "  StructField(\"ProductKey\", StringType(), True),\n",
    "  StructField(\"RowCount\", DoubleType(), True),\n",
    "  StructField(\"ProfitMargin\", DoubleType(), True)])\n",
    "\n",
    "# Static DataFrame containing all the files in sales_log\n",
    "data = (\n",
    "  spark\n",
    "    .read\n",
    "    .schema(salesSchema)\n",
    "    .csv(path)\n",
    ")\n",
    "\n",
    "\n",
    "# create table so we can use SQL\n",
    "data.createOrReplaceTempView(\"sales\")\n",
    "\n",
    "display(data)"
   ]
  },
  {
   "cell_type": "code",
   "execution_count": 7,
   "metadata": {},
   "outputs": [],
   "source": [
    "%sql select * from sales"
   ]
  },
  {
   "cell_type": "code",
   "execution_count": 8,
   "metadata": {},
   "outputs": [],
   "source": [
    "%sql \n",
    "select \n",
    "  ProductKey as Products,\n",
    "  round(sum(SaleAmount)) as TotalSales\n",
    "from sales\n",
    "group by ProductKey\n",
    "order by 2 desc\n",
    "limit 100"
   ]
  },
  {
   "cell_type": "markdown",
   "metadata": {},
   "source": [
    "# Streaming Setup\n",
    "Now we'll try to convert the above analysis we completed to a streaming solution, by reading in each file one by one."
   ]
  },
  {
   "cell_type": "code",
   "execution_count": 10,
   "metadata": {},
   "outputs": [],
   "source": [
    "from pyspark.sql.functions import *\n",
    "\n",
    "# Similar to definition of staticInputDF above, just using `readStream` instead of `read`\n",
    "streamingInputDF = (\n",
    "  spark\n",
    "    .readStream                       \n",
    "    .schema(salesSchema)              # Set the schema for our feed\n",
    "    .option(\"maxFilesPerTrigger\", 1)  # Treat a sequence of files as a stream by picking one file at a time\n",
    "    .csv(path)\n",
    ")\n",
    "\n",
    "# Same query as staticInputDF\n",
    "streamingCountsDF = (                 \n",
    "  streamingInputDF\n",
    "    .select(\"ProductKey\", \"SaleAmount\")\n",
    "    .groupBy(\"ProductKey\")\n",
    "    .sum()\n",
    ")\n",
    "\n",
    "# Is this DF actually a streaming DF?\n",
    "streamingCountsDF.isStreaming"
   ]
  },
  {
   "cell_type": "code",
   "execution_count": 11,
   "metadata": {},
   "outputs": [],
   "source": []
  }
 ],
 "metadata": {
  "kernelspec": {
   "display_name": "Python 3",
   "language": "python",
   "name": "python3"
  },
  "language_info": {
   "codemirror_mode": {
    "name": "ipython",
    "version": 3
   },
   "file_extension": ".py",
   "mimetype": "text/x-python",
   "name": "python",
   "nbconvert_exporter": "python",
   "pygments_lexer": "ipython3",
   "version": "3.6.5"
  },
  "name": "5.2 Setting up Streaming Context",
  "notebookId": 139670597912756
 },
 "nbformat": 4,
 "nbformat_minor": 1
}
