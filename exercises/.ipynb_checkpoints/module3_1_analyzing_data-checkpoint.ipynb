{
 "cells": [
  {
   "cell_type": "markdown",
   "metadata": {},
   "source": [
    "#Module3 Analyzing Data"
   ]
  },
  {
   "cell_type": "code",
   "execution_count": 2,
   "metadata": {},
   "outputs": [],
   "source": [
    "%fs ls /databricks-datasets/online_retail/data-001/"
   ]
  },
  {
   "cell_type": "code",
   "execution_count": 3,
   "metadata": {},
   "outputs": [],
   "source": [
    "# specify path\n",
    "path = \"/databricks-datasets/online_retail/data-001/data.csv\"\n",
    "\n",
    "# read in file using csv format\n",
    "df = spark.read.load(path,\n",
    "                    format='com.databricks.spark.csv', \n",
    "                    header='true',\n",
    "                    inferSchema='true')\n",
    "\n",
    "# show 20 rows\n",
    "display(df)"
   ]
  },
  {
   "cell_type": "code",
   "execution_count": 4,
   "metadata": {},
   "outputs": [],
   "source": [
    "# take a look at our schema\n",
    "df.printSchema()"
   ]
  },
  {
   "cell_type": "code",
   "execution_count": 5,
   "metadata": {},
   "outputs": [],
   "source": [
    "# show just the countries\n",
    "df.select(\"Country\").show()"
   ]
  },
  {
   "cell_type": "code",
   "execution_count": 6,
   "metadata": {},
   "outputs": [],
   "source": [
    "# For this we'll need a few functions\n",
    "display( # shows the results in a grid\n",
    "   df \n",
    "    .select(\"Country\") # chooses just the 1 column\n",
    "    .distinct() # removes duplicates\n",
    "    .orderBy(\"Country\") # sorts results in ascending\n",
    ")\n",
    "        "
   ]
  },
  {
   "cell_type": "code",
   "execution_count": 7,
   "metadata": {},
   "outputs": [],
   "source": [
    "display(\n",
    "  df\n",
    "    .select(df[\"InvoiceNo\"],df[\"UnitPrice\"]*df[\"Quantity\"])\n",
    "    .groupBy(\"InvoiceNo\")\n",
    "    .sum()\n",
    "  )"
   ]
  },
  {
   "cell_type": "code",
   "execution_count": 8,
   "metadata": {},
   "outputs": [],
   "source": [
    "df.filter(df[\"InvoiceNo\"]==536596).show()"
   ]
  },
  {
   "cell_type": "code",
   "execution_count": 9,
   "metadata": {},
   "outputs": [],
   "source": [
    "display(\n",
    "  df\n",
    "    .select(df[\"Country\"], df[\"Description\"],(df[\"UnitPrice\"]*df[\"Quantity\"]).alias(\"Total\"))\n",
    "    .groupBy(\"Country\", \"Description\")\n",
    "    .sum()\n",
    "    .filter(df[\"Country\"]==\"United Kingdom\")\n",
    "    .sort(\"sum(Total)\", ascending=False)\n",
    "    .limit(10)\n",
    "  )"
   ]
  },
  {
   "cell_type": "code",
   "execution_count": 10,
   "metadata": {},
   "outputs": [],
   "source": []
  }
 ],
 "metadata": {
  "kernelspec": {
   "display_name": "Python 3",
   "language": "python",
   "name": "python3"
  },
  "language_info": {
   "codemirror_mode": {
    "name": "ipython",
    "version": 3
   },
   "file_extension": ".py",
   "mimetype": "text/x-python",
   "name": "python",
   "nbconvert_exporter": "python",
   "pygments_lexer": "ipython3",
   "version": "3.6.5"
  },
  "name": "2.4 Exploring Data in DataFrames",
  "notebookId": 1523449000513359
 },
 "nbformat": 4,
 "nbformat_minor": 1
}
